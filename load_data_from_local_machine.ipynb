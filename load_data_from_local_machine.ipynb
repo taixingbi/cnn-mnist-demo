{
 "cells": [
  {
   "cell_type": "code",
   "execution_count": 32,
   "metadata": {},
   "outputs": [],
   "source": [
    "import tensorflow as tf\n",
    "from tensorflow.keras.layers import *\n",
    "from tensorflow.keras.models import *\n",
    "from tensorflow.keras.constraints import max_norm\n",
    "from tensorflow.keras.regularizers import l2"
   ]
  },
  {
   "cell_type": "code",
   "execution_count": 33,
   "metadata": {},
   "outputs": [],
   "source": [
    "from PIL import Image\n",
    "import numpy as np"
   ]
  },
  {
   "cell_type": "code",
   "execution_count": 41,
   "metadata": {},
   "outputs": [
    {
     "name": "stdout",
     "output_type": "stream",
     "text": [
      "<class 'numpy.ndarray'>\n",
      "(1400, 28, 28)\n",
      "<class 'numpy.ndarray'>\n",
      "(1400,)\n"
     ]
    }
   ],
   "source": [
    "def load2000(path):\n",
    "    N= 2000\n",
    "    N_split= int(N*0.7)\n",
    "    \n",
    "    l=[]\n",
    "    for name in range(N):\n",
    "        filename= path + str(name) + '.png'\n",
    "        img = Image.open( filename )\n",
    "        data16 = np.asarray( img, dtype=\"int16\" )\n",
    "        l.append(data16)\n",
    "\n",
    "    x= np.stack(l)\n",
    "    \n",
    "    # np.savetxt('data/labels.txt', y_train[:2000], fmt=\"%d\")\n",
    "    y = np.loadtxt(\"data/labels.txt\", dtype='int16')\n",
    "    \n",
    "    x_train= x[: N_split ]\n",
    "    y_train= y[: N_split ]\n",
    "\n",
    "    x_test= x[ N_split :]\n",
    "    x_test= y[ N_split :]\n",
    "    \n",
    "    return (x_train, y_train), (x_test, x_test)\n",
    "\n",
    "(x_train, y_train), (x_test, y_test)= load2000('data/')\n",
    "print(type(x_train))\n",
    "print( x_train.shape)\n",
    "print( type(y_train ) )\n",
    "print( y_train.shape )"
   ]
  },
  {
   "cell_type": "code",
   "execution_count": 42,
   "metadata": {},
   "outputs": [
    {
     "name": "stdout",
     "output_type": "stream",
     "text": [
      "<class 'numpy.ndarray'> <class 'numpy.ndarray'>\n",
      "(1400, 28, 28) (1400,)\n",
      "Train on 1400 samples\n",
      "1400/1400 [==============================] - 1s 892us/sample - loss: 7.8523 - accuracy: 0.5743\n"
     ]
    }
   ],
   "source": [
    "# with mirrored_strategy.scope():\n",
    "with tf.device('/cpu:0'):\n",
    "#     mnist = tf.keras.datasets.mnist\n",
    "#     (x_train, y_train), (x_test, y_test) = mnist.load_data()\n",
    "#     x_train, x_test = x_train / 255.0, x_test / 255.0\n",
    "\n",
    "    print( type(x_train), type(y_train ) )\n",
    "    print(x_train.shape, y_train.shape)\n",
    "    \n",
    "    img_rows, img_cols= 28, 28\n",
    "    x_train = x_train.reshape(x_train.shape[0], img_rows, img_cols, 1)\n",
    "#     x_test = x_test.reshape(x_test.shape[0], img_rows, img_cols, 1)\n",
    "    input_shape = (img_rows, img_cols, 1)\n",
    "    \n",
    "    \n",
    "    model = tf.keras.models.Sequential([\n",
    "        tf.keras.Input(shape=input_shape),\n",
    "        tf.keras.layers.Conv2D(16, kernel_size=(3, 3)),\n",
    "        tf.keras.layers.Conv2D(16, kernel_size=(3, 3), activation=\"relu\"),\n",
    "        tf.keras.layers.MaxPooling2D(pool_size=(2, 2)),\n",
    "\n",
    "        tf.keras.layers.Flatten(),\n",
    "        tf.keras.layers.Dense(128, activation='relu'),\n",
    "        tf.keras.layers.Dropout(0.2),\n",
    "        tf.keras.layers.Dense(10)\n",
    "    ])\n",
    "\n",
    "    loss_fn = tf.keras.losses.SparseCategoricalCrossentropy(from_logits=True)\n",
    "\n",
    "    model.compile(optimizer='adam',\n",
    "                  loss=loss_fn,\n",
    "                  metrics=['accuracy'])\n",
    "\n",
    "    model.fit(x_train, y_train, epochs=1)"
   ]
  },
  {
   "cell_type": "code",
   "execution_count": null,
   "metadata": {},
   "outputs": [],
   "source": [
    "\n"
   ]
  },
  {
   "cell_type": "code",
   "execution_count": null,
   "metadata": {},
   "outputs": [],
   "source": []
  },
  {
   "cell_type": "code",
   "execution_count": null,
   "metadata": {},
   "outputs": [],
   "source": []
  },
  {
   "cell_type": "code",
   "execution_count": null,
   "metadata": {},
   "outputs": [],
   "source": []
  },
  {
   "cell_type": "code",
   "execution_count": null,
   "metadata": {},
   "outputs": [],
   "source": []
  }
 ],
 "metadata": {
  "kernelspec": {
   "display_name": "Python 3",
   "language": "python",
   "name": "python3"
  },
  "language_info": {
   "codemirror_mode": {
    "name": "ipython",
    "version": 3
   },
   "file_extension": ".py",
   "mimetype": "text/x-python",
   "name": "python",
   "nbconvert_exporter": "python",
   "pygments_lexer": "ipython3",
   "version": "3.7.6"
  }
 },
 "nbformat": 4,
 "nbformat_minor": 4
}
