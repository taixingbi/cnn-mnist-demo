{
 "cells": [
  {
   "cell_type": "markdown",
   "metadata": {},
   "source": [
    "https://studymachinelearning.com/keras-fit-fit_generator-train_on_batch/"
   ]
  },
  {
   "cell_type": "code",
   "execution_count": 19,
   "metadata": {},
   "outputs": [],
   "source": [
    "import tensorflow as tf\n",
    "import os\n",
    "import tensorflow.keras as keras\n",
    "from tensorflow.keras.models import Sequential\n",
    "from tensorflow.keras.layers import Dense, Dropout, Flatten\n",
    "from tensorflow.keras.layers import Conv2D, MaxPooling2D\n",
    "import numpy as np\n",
    "import math"
   ]
  },
  {
   "cell_type": "code",
   "execution_count": 20,
   "metadata": {},
   "outputs": [],
   "source": [
    "from PIL import Image\n",
    "import numpy as np"
   ]
  },
  {
   "cell_type": "code",
   "execution_count": 21,
   "metadata": {},
   "outputs": [],
   "source": [
    "class DataGenerator(tf.compat.v2.keras.utils.Sequence):\n",
    " \n",
    "    def __init__(self, path, N, y, batch_size, dim, n_classes):\n",
    "        \n",
    "        self.path= path\n",
    "        self.N= N \n",
    "        \n",
    "        self.y= y\n",
    "        \n",
    "        self.batch_size = batch_size\n",
    "\n",
    "        self.n_classes = n_classes\n",
    "        self.dim = dim\n",
    "        self.n = 0\n",
    "        self.list_IDs = np.arange(self.N)\n",
    "        self.on_epoch_end()\n",
    "        \n",
    "    def __next__(self):\n",
    "        data = self.__getitem__(self.n)\n",
    "        self.n += 1\n",
    "        \n",
    "        if self.n >= self.__len__():\n",
    "#         if self.n >= int( self.N/self.batch_size ):\n",
    "   \n",
    "            self.indexes = np.arange( self.N )\n",
    "            np.random.shuffle(self.indexes)\n",
    "#             self.on_epoch_end\n",
    "            self.n = 0\n",
    "        \n",
    "        return data\n",
    "    \n",
    "    def __len__(self):\n",
    "        # Return the number of batches of the dataset\n",
    "        return math.ceil(len(self.indexes)/self.batch_size)\n",
    "    \n",
    "    def __getitem__(self, index):\n",
    "        indexes = self.indexes[index*self.batch_size:(index+1)*self.batch_size]\n",
    "        \n",
    "        batch_ids = [self.list_IDs[k] for k in indexes]\n",
    "        \n",
    "        X = self._generate_x(batch_ids)\n",
    "        y = self._generate_y(batch_ids)\n",
    "        return X, y\n",
    "        \n",
    "    def on_epoch_end(self):\n",
    "    \n",
    "        self.indexes = np.arange( self.N )\n",
    "        np.random.shuffle(self.indexes)\n",
    "        \n",
    "    def _generate_x(self, batch_ids):\n",
    "        X = np.empty((self.batch_size, *self.dim))\n",
    "        \n",
    "        for i, ID in enumerate(batch_ids):\n",
    "            filename= self.path + str(ID) + '.png'\n",
    "            img = Image.open( filename )\n",
    "            X[i,] = np.asarray( img, dtype=\"int16\" )\n",
    "        \n",
    "            X = (X/255).astype('float32')\n",
    "        return X[:,:,:, np.newaxis]\n",
    "    \n",
    "    def _generate_y(self, batch_ids):\n",
    "        \n",
    "        y = np.empty(self.batch_size)\n",
    "        \n",
    "        for i, ID in enumerate(batch_ids):\n",
    "            y[i] = self.y[ID]\n",
    "\n",
    "        return keras.utils.to_categorical(\n",
    "                y,num_classes=self.n_classes)"
   ]
  },
  {
   "cell_type": "code",
   "execution_count": 22,
   "metadata": {},
   "outputs": [],
   "source": [
    "n_classes = 10\n",
    "input_shape = (28, 28)"
   ]
  },
  {
   "cell_type": "code",
   "execution_count": 23,
   "metadata": {},
   "outputs": [],
   "source": [
    "y = np.loadtxt(\"data/labels.txt\", dtype='int16')\n",
    "\n",
    "path= 'data/'\n",
    "train_generator = DataGenerator(path, 2000, y, batch_size = 64,\n",
    "                                dim = input_shape,\n",
    "                                n_classes=10)\n",
    "val_generator =  DataGenerator(path, 2000, y, batch_size=64, \n",
    "                               dim = input_shape, \n",
    "                               n_classes= n_classes)"
   ]
  },
  {
   "cell_type": "code",
   "execution_count": 24,
   "metadata": {},
   "outputs": [
    {
     "name": "stdout",
     "output_type": "stream",
     "text": [
      "(64, 28, 28, 1)\n",
      "(64, 10)\n"
     ]
    }
   ],
   "source": [
    "images, labels = next(train_generator)\n",
    "print(images.shape)\n",
    "print(labels.shape)"
   ]
  },
  {
   "cell_type": "code",
   "execution_count": 25,
   "metadata": {},
   "outputs": [],
   "source": [
    "steps_per_epoch = len(train_generator)\n",
    "validation_steps = len(val_generator)"
   ]
  },
  {
   "cell_type": "code",
   "execution_count": 26,
   "metadata": {},
   "outputs": [],
   "source": [
    "model = Sequential()\n",
    "model.add(Conv2D(32, kernel_size=(3, 3),\n",
    "                 activation='relu',\n",
    "                 input_shape=(28, 28 , 1)))\n",
    "model.add(Conv2D(64, (3, 3), activation='relu'))\n",
    "model.add(MaxPooling2D(pool_size=(2, 2)))\n",
    "model.add(Dropout(0.25))\n",
    "model.add(Flatten())\n",
    "model.add(Dense(128, activation='relu'))\n",
    "model.add(Dropout(0.5))\n",
    "model.add(Dense(n_classes, activation='softmax'))\n",
    "model.compile(loss=keras.losses.categorical_crossentropy,\n",
    "              optimizer=keras.optimizers.Adadelta(),\n",
    "              metrics=['accuracy'])"
   ]
  },
  {
   "cell_type": "code",
   "execution_count": 27,
   "metadata": {},
   "outputs": [
    {
     "name": "stdout",
     "output_type": "stream",
     "text": [
      "Epoch 1/2\n",
      "32/32 [==============================] - 12s 364ms/step - loss: 2.3032 - accuracy: 0.1069 - val_loss: 2.3028 - val_accuracy: 0.1108\n",
      "Epoch 2/2\n",
      "32/32 [==============================] - 12s 371ms/step - loss: 2.3025 - accuracy: 0.1143 - val_loss: 2.3024 - val_accuracy: 0.1133\n"
     ]
    },
    {
     "data": {
      "text/plain": [
       "<tensorflow.python.keras.callbacks.History at 0x7f9822f19e90>"
      ]
     },
     "execution_count": 27,
     "metadata": {},
     "output_type": "execute_result"
    }
   ],
   "source": [
    "model.fit_generator(\n",
    "        train_generator,\n",
    "        steps_per_epoch=steps_per_epoch,\n",
    "        epochs=2,\n",
    "        validation_data=val_generator,\n",
    "        validation_steps=validation_steps)"
   ]
  },
  {
   "cell_type": "code",
   "execution_count": null,
   "metadata": {},
   "outputs": [],
   "source": []
  },
  {
   "cell_type": "code",
   "execution_count": null,
   "metadata": {},
   "outputs": [],
   "source": []
  },
  {
   "cell_type": "code",
   "execution_count": null,
   "metadata": {},
   "outputs": [],
   "source": []
  }
 ],
 "metadata": {
  "kernelspec": {
   "display_name": "Python 3",
   "language": "python",
   "name": "python3"
  },
  "language_info": {
   "codemirror_mode": {
    "name": "ipython",
    "version": 3
   },
   "file_extension": ".py",
   "mimetype": "text/x-python",
   "name": "python",
   "nbconvert_exporter": "python",
   "pygments_lexer": "ipython3",
   "version": "3.7.6"
  }
 },
 "nbformat": 4,
 "nbformat_minor": 4
}
